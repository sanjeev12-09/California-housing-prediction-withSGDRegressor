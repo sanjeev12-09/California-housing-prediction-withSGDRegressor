{
  "nbformat": 4,
  "nbformat_minor": 0,
  "metadata": {
    "colab": {
      "name": "Sgd regressor (MLP).ipynb",
      "provenance": [],
      "authorship_tag": "ABX9TyO/IB/O2xlzlVFaCadbaX7T",
      "include_colab_link": true
    },
    "kernelspec": {
      "name": "python3",
      "display_name": "Python 3"
    },
    "language_info": {
      "name": "python"
    }
  },
  "cells": [
    {
      "cell_type": "markdown",
      "metadata": {
        "id": "view-in-github",
        "colab_type": "text"
      },
      "source": [
        "<a href=\"https://colab.research.google.com/github/sanjeev12-09/California-housing-prediction-withSGDRegressor/blob/main/Sgd_regressor_(MLP).ipynb\" target=\"_parent\"><img src=\"https://colab.research.google.com/assets/colab-badge.svg\" alt=\"Open In Colab\"/></a>"
      ]
    },
    {
      "cell_type": "markdown",
      "source": [
        "# Importing Libraries"
      ],
      "metadata": {
        "id": "m2xelPe7e4U0"
      }
    },
    {
      "cell_type": "code",
      "execution_count": 1,
      "metadata": {
        "id": "Royhh5DcbpOM"
      },
      "outputs": [],
      "source": [
        "import numpy as np\n",
        "import pandas as pd \n",
        "import matplotlib.pyplot as plt\n",
        "import seaborn as sns\n",
        "\n",
        "from sklearn.datasets import fetch_california_housing\n",
        "from sklearn.linear_model import SGDRegressor\n",
        "\n",
        "from sklearn.model_selection import train_test_split\n",
        "from sklearn.model_selection import cross_val_score\n",
        "from sklearn.model_selection import cross_validate\n",
        "from sklearn.model_selection import ShuffleSplit\n",
        "from sklearn.model_selection import validation_curve\n",
        "\n",
        "from sklearn.metrics import mean_absolute_error\n",
        "from sklearn.metrics import mean_squared_error\n",
        "\n",
        "from sklearn.preprocessing import StandardScaler\n",
        "from sklearn.pipeline import Pipeline"
      ]
    },
    {
      "cell_type": "code",
      "source": [
        "np.random.seed(306)"
      ],
      "metadata": {
        "id": "42U8wdIGeZ3L"
      },
      "execution_count": 2,
      "outputs": []
    },
    {
      "cell_type": "code",
      "source": [
        "shuffle_split_cv = ShuffleSplit(n_splits=10, test_size= 0.2, random_state=0)"
      ],
      "metadata": {
        "id": "_Se4LBP0ekSQ"
      },
      "execution_count": 3,
      "outputs": []
    },
    {
      "cell_type": "markdown",
      "source": [
        "# Load the data and split into train and test"
      ],
      "metadata": {
        "id": "ayOBHrRjfCqD"
      }
    },
    {
      "cell_type": "code",
      "source": [
        "features, labels = fetch_california_housing(as_frame=True, return_X_y=True)\n",
        "com_train_features, test_features, com_train_labels, test_labels = train_test_split(features, labels, random_state=42)"
      ],
      "metadata": {
        "id": "Slk8w-FtfaBY"
      },
      "execution_count": 4,
      "outputs": []
    },
    {
      "cell_type": "markdown",
      "source": [
        "Divide the data into train and dev state"
      ],
      "metadata": {
        "id": "vM66_rZqlCq7"
      }
    },
    {
      "cell_type": "code",
      "source": [
        "train_features, dev_features, train_labels, dev_labels = train_test_split(com_train_features, com_train_labels, random_state=42)"
      ],
      "metadata": {
        "id": "_VvXJBzLk3Zf"
      },
      "execution_count": 5,
      "outputs": []
    },
    {
      "cell_type": "markdown",
      "source": [
        "# Baseline SGDRegressor "
      ],
      "metadata": {
        "id": "WL1mMOaplboy"
      }
    },
    {
      "cell_type": "code",
      "source": [
        "sgd = SGDRegressor(random_state=42)\n",
        "sgd.fit(train_features, train_labels)\n",
        "\n",
        "train_mae = mean_absolute_error(train_labels, sgd.predict(train_features))\n",
        "dev_mae = mean_absolute_error(dev_labels, sgd.predict(dev_features))\n",
        "print(\"Mean absolute error on training set\", train_mae)\n",
        "print(\"Mean absolute error on development set\", dev_mae)"
      ],
      "metadata": {
        "colab": {
          "base_uri": "https://localhost:8080/"
        },
        "id": "k0XslgFSlle6",
        "outputId": "7df9a80e-0693-4b4c-9060-c2da7fece422"
      },
      "execution_count": 6,
      "outputs": [
        {
          "output_type": "stream",
          "name": "stdout",
          "text": [
            "Mean absolute error on training set 312995824045833.75\n",
            "Mean absolute error on development set 315394681503071.94\n"
          ]
        }
      ]
    },
    {
      "cell_type": "markdown",
      "source": [
        "We can observe that the error is very high. The baseline model doesnot train well. This may happen due to large learning rate. Lets investigate the model step by step and investigate the issuue."
      ],
      "metadata": {
        "id": "5u6hvdf9qb1d"
      }
    },
    {
      "cell_type": "markdown",
      "source": [
        "# Adding a feature scaling step"
      ],
      "metadata": {
        "id": "zDrEht96rG-I"
      }
    },
    {
      "cell_type": "code",
      "source": [
        "sgd_pipeline = Pipeline([(\"feature scaling\", StandardScaler()),\n",
        "                         (\"sgd\", SGDRegressor())])\n",
        "sgd_pipeline.fit(train_features, train_labels)\n",
        "\n",
        "train_mae = mean_absolute_error(train_labels, sgd_pipeline.predict(train_features))\n",
        "dev_mae = mean_absolute_error(dev_labels, sgd_pipeline.predict(dev_features))\n",
        "print(\"Mean absolute error on training set\", train_mae)\n",
        "print(\"Mean absolute error on development set\", dev_mae)"
      ],
      "metadata": {
        "colab": {
          "base_uri": "https://localhost:8080/"
        },
        "id": "fbgy0tZlrMUI",
        "outputId": "79934616-2332-4a99-f3a0-04dc4ca7f710"
      },
      "execution_count": 7,
      "outputs": [
        {
          "output_type": "stream",
          "name": "stdout",
          "text": [
            "Mean absolute error on training set 0.5135804404077051\n",
            "Mean absolute error on development set 0.6373131245753217\n"
          ]
        }
      ]
    },
    {
      "cell_type": "markdown",
      "source": [
        "The error is still high . Lets run sgd regressor step by step"
      ],
      "metadata": {
        "id": "oOsll-EOtieK"
      }
    },
    {
      "cell_type": "markdown",
      "source": [
        "# Step wise training SGDRegressor"
      ],
      "metadata": {
        "id": "5jugWfgmtuze"
      }
    },
    {
      "cell_type": "code",
      "source": [
        "eta0 = 1e-2\n",
        "sgd_pipeline = Pipeline([(\"feature scaling\", StandardScaler()),\n",
        "                         (\"SGD\", SGDRegressor(max_iter = 1, tol= -np.infty, warm_start= True, random_state=42))])\n",
        "\n",
        "loss=[]\n",
        "for epoch in range(100):\n",
        "  sgd_pipeline.fit(train_features, train_labels)\n",
        "  loss.append(mean_squared_error(train_labels, sgd_pipeline.predict(train_features)\n",
        "                                 ))\n",
        "  \n",
        "plt.plot(np.arange(len(loss)), loss, 'b-')\n",
        "plt.xlabel('Iteration')\n",
        "plt.ylabel(\"MSE\")\n",
        "plt.title(f\"Learning curve: eta0 = {eta0:.4f}\")"
      ],
      "metadata": {
        "colab": {
          "base_uri": "https://localhost:8080/",
          "height": 313
        },
        "id": "jleuNmB_tsk1",
        "outputId": "741018d8-6b2c-47d2-8fb2-c85d02ade8e7"
      },
      "execution_count": 8,
      "outputs": [
        {
          "output_type": "execute_result",
          "data": {
            "text/plain": [
              "Text(0.5, 1.0, 'Learning curve: eta0 = 0.0100')"
            ]
          },
          "metadata": {},
          "execution_count": 8
        },
        {
          "output_type": "display_data",
          "data": {
            "image/png": "[encoded data removed]",
            "text/plain": [
              "<Figure size 432x288 with 1 Axes>"
            ]
          },
          "metadata": {
            "needs_background": "light"
          }
        }
      ]
    },
    {
      "cell_type": "markdown",
      "source": [
        "The loss reduce initialy and then increased due to large learning rate. Now we reduce the learning rate by 10 and retry the training"
      ],
      "metadata": {
        "id": "dtzHrDmoxmKo"
      }
    },
    {
      "cell_type": "code",
      "source": [
        "eta0 = 1e-3\n",
        "sgd_pipeline = Pipeline([(\"feature scaling\", StandardScaler()),\n",
        "                         (\"SGD\", SGDRegressor(max_iter = 1, tol= -np.infty, warm_start= True,eta0 = eta0, random_state=42))])\n",
        "\n",
        "loss=[]\n",
        "for epoch in range(100):\n",
        "  sgd_pipeline.fit(train_features, train_labels)\n",
        "  loss.append(mean_squared_error(train_labels, sgd_pipeline.predict(train_features)\n",
        "                                 ))\n",
        "  \n",
        "plt.plot(np.arange(len(loss)), loss, 'b-')\n",
        "plt.xlabel('Iteration')\n",
        "plt.ylabel(\"MSE\")\n",
        "plt.title(f\"Learning curve: eta0 = {eta0:.4f}\")"
      ],
      "metadata": {
        "colab": {
          "base_uri": "https://localhost:8080/",
          "height": 313
        },
        "id": "QK1dMiM4x4m2",
        "outputId": "512c7029-384d-4d18-ce25-986d6a717c81"
      },
      "execution_count": 9,
      "outputs": [
        {
          "output_type": "execute_result",
          "data": {
            "text/plain": [
              "Text(0.5, 1.0, 'Learning curve: eta0 = 0.0010')"
            ]
          },
          "metadata": {},
          "execution_count": 9
        },
        {
          "output_type": "display_data",
          "data": {
            "image/png": "[encoded data removed]",
            "text/plain": [
              "<Figure size 432x288 with 1 Axes>"
            ]
          },
          "metadata": {
            "needs_background": "light"
          }
        }
      ]
    },
    {
      "cell_type": "markdown",
      "source": [
        "This is an ideal learning curve where the train loss reduce monotonically"
      ],
      "metadata": {
        "id": "dtDK4Ekzyibv"
      }
    },
    {
      "cell_type": "code",
      "source": [
        "print(\"no. of iteration before reaches convergence criteria :\",\n",
        "        sgd_pipeline[-1].n_iter_)\n",
        "print(\"no. of weight updates\", sgd_pipeline[-1].t_)"
      ],
      "metadata": {
        "colab": {
          "base_uri": "https://localhost:8080/"
        },
        "id": "cxlp3X9zyt4z",
        "outputId": "561a8c54-4660-450c-efa8-c7b154631a84"
      },
      "execution_count": 10,
      "outputs": [
        {
          "output_type": "stream",
          "name": "stdout",
          "text": [
            "no. of iteration before reaches convergence criteria : 1\n",
            "no. of weight updates 11611.0\n"
          ]
        }
      ]
    },
    {
      "cell_type": "code",
      "source": [
        "train_mae = mean_absolute_error(train_labels, sgd_pipeline.predict(train_features))\n",
        "dev_mae = mean_absolute_error(dev_labels, sgd_pipeline.predict(dev_features))\n",
        "print(\"Mean absolute error on training set\", train_mae)\n",
        "print(\"Mean absolute error on development set\", dev_mae)"
      ],
      "metadata": {
        "colab": {
          "base_uri": "https://localhost:8080/"
        },
        "id": "PBHk0stWzniC",
        "outputId": "e88f17c1-8ea7-4571-c88d-dffe210a953f"
      },
      "execution_count": 11,
      "outputs": [
        {
          "output_type": "stream",
          "name": "stdout",
          "text": [
            "Mean absolute error on training set 0.5333732983042573\n",
            "Mean absolute error on development set 0.5190150280908042\n"
          ]
        }
      ]
    },
    {
      "cell_type": "markdown",
      "source": [
        "# Fixing learning rate through learning curves"
      ],
      "metadata": {
        "id": "gtds8XMPz2w4"
      }
    },
    {
      "cell_type": "code",
      "source": [
        "%%time\n",
        "eta0 = [1e-5, 1e-4, 1e-3, 1e-2 ]\n",
        "train_scores, test_scores = validation_curve(\n",
        "    sgd_pipeline, com_train_features, com_train_labels, param_name=\"SGD__eta0\",\n",
        "    param_range = eta0, cv = shuffle_split_cv, scoring = \"neg_mean_squared_error\", n_jobs = 2)\n",
        "train_errors, test_errors = -train_scores, -test_scores"
      ],
      "metadata": {
        "colab": {
          "base_uri": "https://localhost:8080/"
        },
        "id": "mZ6iJCrJz8MI",
        "outputId": "467d4e01-859d-4831-bed0-f5fdb0f5d9c8"
      },
      "execution_count": 12,
      "outputs": [
        {
          "output_type": "stream",
          "name": "stdout",
          "text": [
            "CPU times: user 309 ms, sys: 67.6 ms, total: 377 ms\n",
            "Wall time: 1.91 s\n"
          ]
        }
      ]
    },
    {
      "cell_type": "code",
      "source": [
        "train_errors, test_errors = -train_scores, -test_scores\n",
        "plt.plot(eta0, train_errors.mean(axis=1),'b-x', label = 'Training error')\n",
        "plt.plot(eta0, test_errors.mean(axis=1),'r-x', label = 'Test error')\n",
        "plt.legend()\n",
        "plt.xlabel('eta0')\n",
        "plt.ylabel(\"Mean absolute error (k$)\")\n",
        "_=plt.title(\"Validation Curve for SGD\")"
      ],
      "metadata": {
        "colab": {
          "base_uri": "https://localhost:8080/",
          "height": 295
        },
        "id": "8jj8zbVk1sH8",
        "outputId": "4a5bef35-76fe-47fc-82af-dc869e8e7a0f"
      },
      "execution_count": 13,
      "outputs": [
        {
          "output_type": "display_data",
          "data": {
            "image/png": "[encoded data removed]",
            "text/plain": [
              "<Figure size 432x288 with 1 Axes>"
            ]
          },
          "metadata": {
            "needs_background": "light"
          }
        }
      ]
    },
    {
      "cell_type": "markdown",
      "source": [
        "For eta0 = 1e-3 , the test error is least and hence we select the value as the value for eta0"
      ],
      "metadata": {
        "id": "BLZWB0va3WG_"
      }
    },
    {
      "cell_type": "code",
      "source": [
        "\n",
        "plt.errorbar(eta0, train_errors.mean(axis=1),yerr=train_errors.std(axis=1), label = 'Training error')\n",
        "plt.errorbar(eta0, test_errors.mean(axis=1),yerr=test_errors.std(axis=1), label = 'Test error')\n",
        "plt.legend()\n",
        "plt.xlabel('eta0')\n",
        "plt.ylabel(\"Mean absolute error (k$)\")\n",
        "_=plt.title(\"Validation Curve for SGD\")"
      ],
      "metadata": {
        "colab": {
          "base_uri": "https://localhost:8080/",
          "height": 295
        },
        "id": "XqZlEIh33WbZ",
        "outputId": "0cd25546-f9b6-4436-f5ee-9b24390d5a5f"
      },
      "execution_count": 14,
      "outputs": [
        {
          "output_type": "display_data",
          "data": {
            "image/png": "[encoded data removed]",
            "text/plain": [
              "<Figure size 432x288 with 1 Axes>"
            ]
          },
          "metadata": {
            "needs_background": "light"
          }
        }
      ]
    },
    {
      "cell_type": "markdown",
      "source": [
        "# SGD Regressor"
      ],
      "metadata": {
        "id": "_yTaewabRiCn"
      }
    },
    {
      "cell_type": "code",
      "source": [
        "sgd_pipeline = Pipeline([(\"feature scaling\", StandardScaler()),\n",
        "                         (\"SGD\", SGDRegressor(max_iter = 500, \n",
        "                                              early_stopping= True,eta0 = 1e-3,\n",
        "                                              tol= 1e-3,validation_fraction = 0.2,\n",
        "                                              n_iter_no_change =5, average=10, random_state=42))])\n",
        "sgd_pipeline.fit(train_features, train_labels)\n",
        "\n",
        "train_mae = mean_absolute_error(train_labels, sgd_pipeline.predict(train_features))\n",
        "dev_mae = mean_absolute_error(dev_labels, sgd_pipeline.predict(dev_features))\n",
        "print(\"Mean absolute error on training set\", train_mae)\n",
        "print(\"Mean absolute error on development set\", dev_mae)"
      ],
      "metadata": {
        "colab": {
          "base_uri": "https://localhost:8080/"
        },
        "id": "WOJqRYg6RoqL",
        "outputId": "cef4d91a-b0b7-4d3c-bbb3-6fc587bd4175"
      },
      "execution_count": 15,
      "outputs": [
        {
          "output_type": "stream",
          "name": "stdout",
          "text": [
            "Mean absolute error on training set 0.579376454514559\n",
            "Mean absolute error on development set 0.5689180241137523\n"
          ]
        }
      ]
    },
    {
      "cell_type": "code",
      "source": [
        "print(\"no. of iteration before reaches convergence criteria :\",\n",
        "        sgd_pipeline[-1].n_iter_)\n",
        "print(\"no. of weight updates\", sgd_pipeline[-1].t_)"
      ],
      "metadata": {
        "colab": {
          "base_uri": "https://localhost:8080/"
        },
        "id": "ruvkAJBxTI6a",
        "outputId": "9dba0dad-d5c3-4b80-8b2f-4c8062510533"
      },
      "execution_count": 16,
      "outputs": [
        {
          "output_type": "stream",
          "name": "stdout",
          "text": [
            "no. of iteration before reaches convergence criteria : 7\n",
            "no. of weight updates 81271.0\n"
          ]
        }
      ]
    },
    {
      "cell_type": "code",
      "source": [
        "sgd_pipeline = Pipeline([(\"feature scaling\", StandardScaler()),\n",
        "                         (\"SGD\", SGDRegressor(max_iter = 500, \n",
        "                                              early_stopping= True,eta0 = 1e-3,\n",
        "                                              tol= 1e-3,learning_rate = 'constant',\n",
        "                                              validation_fraction = 0.2,\n",
        "                                              n_iter_no_change =5, average=10, random_state=42))])\n",
        "sgd_pipeline.fit(train_features, train_labels)\n",
        "\n",
        "train_mae = mean_absolute_error(train_labels, sgd_pipeline.predict(train_features))\n",
        "dev_mae = mean_absolute_error(dev_labels, sgd_pipeline.predict(dev_features))\n",
        "print(\"Mean absolute error on training set\", train_mae)\n",
        "print(\"Mean absolute error on development set\", dev_mae)\n",
        "\n",
        "print(\"\\n no. of iteration before reaches convergence criteria :\",\n",
        "        sgd_pipeline[-1].n_iter_)\n",
        "print(\"no. of weight updates\", sgd_pipeline[-1].t_)"
      ],
      "metadata": {
        "colab": {
          "base_uri": "https://localhost:8080/"
        },
        "id": "HJYeeALlTZmT",
        "outputId": "eababfcc-5e5c-4b98-a2f3-9d2f8165349a"
      },
      "execution_count": 19,
      "outputs": [
        {
          "output_type": "stream",
          "name": "stdout",
          "text": [
            "Mean absolute error on training set 0.5359339681114987\n",
            "Mean absolute error on development set 0.5151099728924144\n",
            "\n",
            " no. of iteration before reaches convergence criteria : 8\n",
            "no. of weight updates 92881.0\n"
          ]
        }
      ]
    },
    {
      "cell_type": "code",
      "source": [
        "sgd_pipeline = Pipeline([(\"feature scaling\", StandardScaler()),\n",
        "                         (\"SGD\", SGDRegressor(max_iter = 500, \n",
        "                                              early_stopping= True,eta0 = 1e-3,\n",
        "                                              tol= 1e-3,learning_rate = 'adaptive',\n",
        "                                              validation_fraction = 0.2,\n",
        "                                              n_iter_no_change =5, average=10, random_state=42))])\n",
        "sgd_pipeline.fit(train_features, train_labels)\n",
        "\n",
        "train_mae = mean_absolute_error(train_labels, sgd_pipeline.predict(train_features))\n",
        "dev_mae = mean_absolute_error(dev_labels, sgd_pipeline.predict(dev_features))\n",
        "print(\"Mean absolute error on training set\", train_mae)\n",
        "print(\"Mean absolute error on development set\", dev_mae)\n",
        "\n",
        "print(\"\\n no. of iteration before reaches convergence criteria :\",\n",
        "        sgd_pipeline[-1].n_iter_)\n",
        "print(\" no. of weight updates\", sgd_pipeline[-1].t_)"
      ],
      "metadata": {
        "colab": {
          "base_uri": "https://localhost:8080/"
        },
        "id": "PtVpKTX8Tvda",
        "outputId": "ae10375f-372f-42b5-fbe5-883c2418ec57"
      },
      "execution_count": 20,
      "outputs": [
        {
          "output_type": "stream",
          "name": "stdout",
          "text": [
            "Mean absolute error on training set 0.5340193046836148\n",
            "Mean absolute error on development set 0.5198356196858102\n",
            "\n",
            " no. of iteration before reaches convergence criteria : 33\n",
            " no. of weight updates 383131.0\n"
          ]
        }
      ]
    },
    {
      "cell_type": "markdown",
      "source": [
        "# Setting max_iters"
      ],
      "metadata": {
        "id": "w7NeL3ThUTHX"
      }
    },
    {
      "cell_type": "code",
      "source": [
        "max_iter = np.ceil(1e6/com_train_features.shape[0])\n",
        "max_iter"
      ],
      "metadata": {
        "colab": {
          "base_uri": "https://localhost:8080/"
        },
        "id": "6XwpfZ-AUSpc",
        "outputId": "9e48a55c-3f6c-439b-bfd4-242458a7c8cd"
      },
      "execution_count": 21,
      "outputs": [
        {
          "output_type": "execute_result",
          "data": {
            "text/plain": [
              "65.0"
            ]
          },
          "metadata": {},
          "execution_count": 21
        }
      ]
    },
    {
      "cell_type": "code",
      "source": [
        "sgd_pipeline = Pipeline([(\"feature scaling\", StandardScaler()),\n",
        "                         (\"SGD\", SGDRegressor(max_iter = max_iter, \n",
        "                                              early_stopping= True,eta0 = 1e-3,\n",
        "                                              tol= 1e-3,learning_rate = 'constant',\n",
        "                                              validation_fraction = 0.2,\n",
        "                                              n_iter_no_change =5, average=10, random_state=42))])\n",
        "sgd_pipeline.fit(train_features, train_labels)\n",
        "\n",
        "train_mae = mean_absolute_error(train_labels, sgd_pipeline.predict(train_features))\n",
        "dev_mae = mean_absolute_error(dev_labels, sgd_pipeline.predict(dev_features))\n",
        "print(\"Mean absolute error on training set\", train_mae)\n",
        "print(\"Mean absolute error on development set\", dev_mae)\n",
        "\n",
        "print(\"\\n no. of iteration before reaches convergence criteria :\",\n",
        "        sgd_pipeline[-1].n_iter_)\n",
        "print(\" no. of weight updates\", sgd_pipeline[-1].t_)"
      ],
      "metadata": {
        "colab": {
          "base_uri": "https://localhost:8080/"
        },
        "id": "l9ucRwjGU3VJ",
        "outputId": "28e267e3-d908-4c8a-fed8-c6754bde1834"
      },
      "execution_count": 23,
      "outputs": [
        {
          "output_type": "stream",
          "name": "stdout",
          "text": [
            "Mean absolute error on training set 0.5359339681114987\n",
            "Mean absolute error on development set 0.5151099728924144\n",
            "\n",
            " no. of iteration before reaches convergence criteria : 8\n",
            " no. of weight updates 92881.0\n"
          ]
        }
      ]
    }
  ]
}